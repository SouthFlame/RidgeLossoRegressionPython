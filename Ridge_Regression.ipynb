{
 "cells": [
  {
   "cell_type": "code",
   "execution_count": 1,
   "metadata": {
    "collapsed": true
   },
   "outputs": [],
   "source": [
    "%matplotlib tk\n",
    "import csv\n",
    "import sys\n",
    "import numpy as np\n",
    "import matplotlib.pyplot as plt\n",
    "from sklearn import linear_model\n",
    "#from matplotlib.legend_handler import HandlerLine2D"
   ]
  },
  {
   "cell_type": "code",
   "execution_count": 2,
   "metadata": {},
   "outputs": [
    {
     "name": "stdout",
     "output_type": "stream",
     "text": [
      "67 30\n",
      "[' 0.737164066', '3.473518', '64', ' 0.61518564', '0', '-1.38629436', '6', '  0', ' 0.7654678']\n",
      "['-0.776528789', '3.539509', '47', '-1.38629436', '0', '-1.38629436', '6', '  0', ' 1.0473190']\n",
      "[' 0.223143551', '3.244544', '63', '-1.38629436', '0', '-1.38629436', '6', '  0', ' 1.0473190']\n",
      "[' 1.205970807', '3.442019', '57', '-1.38629436', '0', '-0.43078292', '7', '  5', ' 1.3987169']\n",
      "[' 2.059238834', '3.501043', '60', ' 1.47476301', '0', ' 1.34807315', '7', ' 20', ' 1.6582281']\n",
      "[' 0.385262401', '3.667400', '69', ' 1.59938758', '0', '-1.38629436', '6', '  0', ' 1.7316555']\n",
      "[' 1.446918983', '3.124565', '68', ' 0.30010459', '0', '-1.38629436', '6', '  0', ' 1.7664417']\n",
      "['-0.400477567', '3.865979', '67', ' 1.81645208', '0', '-1.38629436', '7', ' 20', ' 1.8164521']\n",
      "[' 0.182321557', '3.804438', '65', ' 1.70474809', '0', '-1.38629436', '6', '  0', ' 2.0082140']\n",
      "[' 0.009950331', '3.267666', '54', '-1.38629436', '0', '-1.38629436', '6', '  0', ' 2.0215476']\n",
      "[' 1.308332820', '4.119850', '64', ' 2.17133681', '0', '-1.38629436', '7', '  5', ' 2.0856721']\n",
      "[' 1.442201993', '3.682610', '68', '-1.38629436', '0', '-1.38629436', '7', ' 10', ' 2.3075726']\n",
      "[' 1.771556762', '3.896909', '61', '-1.38629436', '0', ' 0.81093022', '7', '  6', ' 2.3749058']\n",
      "[' 1.163150810', '4.035125', '68', ' 1.71379793', '0', '-0.43078292', '7', ' 40', ' 2.5687881']\n",
      "[' 1.745715531', '3.498022', '43', '-1.38629436', '0', '-1.38629436', '6', '  0', ' 2.5915164']\n",
      "[' 1.220829921', '3.568123', '70', ' 1.37371558', '0', '-0.79850770', '6', '  0', ' 2.5915164']\n",
      "[' 0.512823626', '3.633631', '64', ' 1.49290410', '0', ' 0.04879016', '7', ' 70', ' 2.6844403']\n",
      "[' 2.127040520', '4.121473', '68', ' 1.76644166', '0', ' 1.44691898', '7', ' 40', ' 2.6912431']\n",
      "[' 3.153590358', '3.516013', '59', '-1.38629436', '0', '-1.38629436', '7', '  5', ' 2.7047113']\n",
      "[' 0.974559640', '2.865054', '47', '-1.38629436', '0', ' 0.50077529', '7', '  4', ' 2.7880929']\n",
      "[' 1.997417706', '3.719651', '63', ' 1.61938824', '1', ' 1.90954250', '7', ' 40', ' 2.8535925']\n",
      "[' 2.034705648', '3.917011', '66', ' 2.00821403', '1', ' 2.11021320', '7', ' 60', ' 2.8820035']\n",
      "[' 2.073171929', '3.623007', '64', '-1.38629436', '0', '-1.38629436', '6', '  0', ' 2.8820035']\n",
      "[' 1.458615023', '3.836221', '61', ' 1.32175584', '0', '-0.43078292', '7', ' 20', ' 2.8875901']\n",
      "[' 1.214912744', '3.825375', '69', '-1.38629436', '1', ' 0.22314355', '7', ' 20', ' 3.0563569']\n",
      "[' 1.838961071', '3.236716', '60', ' 0.43825493', '1', ' 1.17865500', '9', ' 90', ' 3.0750055']\n",
      "[' 2.779440197', '3.823192', '63', '-1.38629436', '0', ' 0.37156356', '7', ' 50', ' 3.5130369']\n",
      "[' 2.677590994', '3.838376', '65', ' 1.11514159', '0', ' 1.74919985', '9', ' 70', ' 3.5709402']\n",
      "[' 2.907447359', '3.396185', '52', '-1.38629436', '1', ' 2.46385324', '7', ' 10', ' 5.1431245']\n",
      "[' 3.471966453', '3.974998', '68', ' 0.43825493', '1', ' 2.90416508', '7', ' 20', ' 5.5829322']\n"
     ]
    }
   ],
   "source": [
    "data_matrix_train = []\n",
    "data_matrix_test = []\n",
    "with open('prostate.csv','r') as csvfile:\n",
    "    prostate = csv.reader(csvfile, dialect='excel')\n",
    "    for row in prostate:\n",
    "        a = ','.join(row)\n",
    "        a = a.split('\\t')\n",
    "        if a[10] == 'T':\n",
    "            data_matrix_train.append(a[1:10])\n",
    "        else:\n",
    "            data_matrix_test.append(a[1:10])\n",
    "data_matrix_train = data_matrix_train\n",
    "data_matrix_test = data_matrix_test[1:]\n",
    "\n",
    "print(len(data_matrix_train) , len(data_matrix_test))\n",
    "for x in data_matrix_test:\n",
    "    print(x)"
   ]
  },
  {
   "cell_type": "code",
   "execution_count": 3,
   "metadata": {
    "collapsed": true
   },
   "outputs": [],
   "source": [
    "data_train_array = np.array(data_matrix_train, dtype = np.float32)\n",
    "data_test_array = np.array(data_matrix_test, dtype = np.float32)\n",
    "data_test_array.shape\n",
    "\n",
    "X = data_train_array[:,:8] #8번째 이전 까지 [0~7]\n",
    "X_T = np.transpose(X)\n",
    "#Y = data_train_array[:,8:]\n",
    "Y = data_train_array[:,8] # 8번째꺼\n",
    "XX_T = np.dot(X_T,X)"
   ]
  },
  {
   "cell_type": "markdown",
   "metadata": {},
   "source": [
    "## df(lambda) 구하는 법\n",
    "$$\\begin{equation*} df(\\lambda) = tr(X(X'X+\\lambda I_p)^{-1}X') = \\sum_{j=1}^p \\frac{d_j^2}{d_j^2+\\lambda}, \\end{equation*} $$ "
   ]
  },
  {
   "cell_type": "code",
   "execution_count": 4,
   "metadata": {},
   "outputs": [
    {
     "data": {
      "text/plain": [
       "1.0899650108135968"
      ]
     },
     "execution_count": 4,
     "metadata": {},
     "output_type": "execute_result"
    }
   ],
   "source": [
    "Lambda = 10**5\n",
    "num_theta = len(X[0])\n",
    "I = np.identity(num_theta)\n",
    "df_lambda = np.dot(X,np.linalg.inv(XX_T + Lambda*I))\n",
    "df_lambda = np.dot(df_lambda,X_T)\n",
    "df_lambda = np.trace(df_lambda)\n",
    "\n",
    "df_lambda\n",
    "#df(λ)=tr(X(X′X+λIp)−1X′)\n",
    "\n",
    "#R_theta"
   ]
  },
  {
   "cell_type": "code",
   "execution_count": 5,
   "metadata": {
    "collapsed": true
   },
   "outputs": [],
   "source": [
    "df_lambda_list = []\n",
    "coefficient_list = []\n",
    "Lambda = 10.0**24\n",
    "for i in range(100):\n",
    "    Lambda = Lambda / 1.8\n",
    "    #print(Lambda)\n",
    "    num_theta = len(X[0])\n",
    "    I = np.identity(num_theta)\n",
    "    R_theta = np.dot(np.dot(np.linalg.inv(XX_T + Lambda*I), X_T),Y)\n",
    "    df_lambda = np.dot(X,np.linalg.inv(XX_T + Lambda*I))\n",
    "    df_lambda = np.dot(df_lambda,X_T)\n",
    "    df_lambda = np.trace(df_lambda)\n",
    "    df_lambda_list.append(df_lambda)\n",
    "    coefficient_list.append(R_theta)\n",
    "    \n",
    "    \n",
    "a = np.asarray(coefficient_list)\n",
    "#plt.plot(df_lambda_list,a[:,0],df_lambda_list,a[:,1],df_lambda_list,a[:,2],df_lambda_list,a[:,3],df_lambda_list,a[:,4],df_lambda_list,a[:,5],df_lambda_list,a[:,6],df_lambda_list,a[:,7])\n",
    "plt.plot(df_lambda_list,a[:,0], label='lcavol')\n",
    "plt.plot(df_lambda_list,a[:,1], label='lweight')\n",
    "plt.plot(df_lambda_list,a[:,2], label='age')\n",
    "plt.plot(df_lambda_list,a[:,3], label='lbph')\n",
    "plt.plot(df_lambda_list,a[:,4], label='svi')\n",
    "plt.plot(df_lambda_list,a[:,5], label='lcp')\n",
    "plt.plot(df_lambda_list,a[:,6], label='gleason')\n",
    "plt.plot(df_lambda_list,a[:,7], label='pgg45')\n",
    "plt.xlabel('df')\n",
    "plt.ylabel('Coefficients')\n",
    "plt.legend()\n",
    "plt.grid(linestyle ='dotted')\n",
    "plt.show()"
   ]
  }
 ],
 "metadata": {
  "kernelspec": {
   "display_name": "Python 3",
   "language": "python",
   "name": "python3"
  },
  "language_info": {
   "codemirror_mode": {
    "name": "ipython",
    "version": 3
   },
   "file_extension": ".py",
   "mimetype": "text/x-python",
   "name": "python",
   "nbconvert_exporter": "python",
   "pygments_lexer": "ipython3",
   "version": "3.6.3"
  }
 },
 "nbformat": 4,
 "nbformat_minor": 2
}
