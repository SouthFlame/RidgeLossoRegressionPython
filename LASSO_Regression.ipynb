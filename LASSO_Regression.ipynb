{
 "cells": [
  {
   "cell_type": "code",
   "execution_count": 1,
   "metadata": {
    "collapsed": true
   },
   "outputs": [],
   "source": [
    "%matplotlib tk\n",
    "import csv\n",
    "import sys\n",
    "import numpy as np\n",
    "import matplotlib.pyplot as plt\n",
    "from sklearn import linear_model\n",
    "#from matplotlib.legend_handler import HandlerLine2D"
   ]
  },
  {
   "cell_type": "code",
   "execution_count": 2,
   "metadata": {},
   "outputs": [
    {
     "name": "stdout",
     "output_type": "stream",
     "text": [
      "67 30\n"
     ]
    }
   ],
   "source": [
    "data_matrix_train = []\n",
    "data_matrix_test = []\n",
    "with open('prostate.csv','r') as csvfile:\n",
    "    prostate = csv.reader(csvfile, dialect='excel')\n",
    "    for row in prostate:\n",
    "        a = ','.join(row)\n",
    "        a = a.split('\\t')\n",
    "        if a[10] == 'T':\n",
    "            data_matrix_train.append(a[1:10])\n",
    "        else:\n",
    "            data_matrix_test.append(a[1:10])\n",
    "data_matrix_train = data_matrix_train\n",
    "data_matrix_test = data_matrix_test[1:]\n",
    "\n",
    "print(len(data_matrix_train) , len(data_matrix_test))"
   ]
  },
  {
   "cell_type": "code",
   "execution_count": 3,
   "metadata": {
    "collapsed": true
   },
   "outputs": [],
   "source": [
    "data_train_array = np.array(data_matrix_train, dtype = np.float32)\n",
    "data_test_array = np.array(data_matrix_test, dtype = np.float32)"
   ]
  },
  {
   "cell_type": "code",
   "execution_count": 4,
   "metadata": {},
   "outputs": [
    {
     "data": {
      "text/plain": [
       "(67, 9)"
      ]
     },
     "execution_count": 4,
     "metadata": {},
     "output_type": "execute_result"
    }
   ],
   "source": [
    "data_train_array.shape"
   ]
  },
  {
   "cell_type": "code",
   "execution_count": 5,
   "metadata": {
    "collapsed": true
   },
   "outputs": [],
   "source": [
    "# data_train_array[2,:]"
   ]
  },
  {
   "cell_type": "code",
   "execution_count": 6,
   "metadata": {
    "collapsed": true
   },
   "outputs": [],
   "source": [
    "X = data_train_array[:,:8] #8번째 이전 까지 [0~7]\n",
    "X_T = np.transpose(X)\n",
    "XX_T = np.dot(X_T,X)\n",
    "\n",
    "Y = data_train_array[:,8] # 8번째꺼\n",
    "# print(X.shape, X_T.shape, Y.shape,XX_T.shape,np.linalg.inv(XX_T).shape)"
   ]
  },
  {
   "cell_type": "code",
   "execution_count": 7,
   "metadata": {},
   "outputs": [
    {
     "data": {
      "text/plain": [
       "array([ 0.5706255 ,  0.6461143 , -0.0180992 ,  0.13833687,  0.7413799 ,\n",
       "       -0.2068294 ,  0.01197435,  0.00874348], dtype=float32)"
      ]
     },
     "execution_count": 7,
     "metadata": {},
     "output_type": "execute_result"
    }
   ],
   "source": [
    "theta = np.dot(np.dot(np.linalg.inv(XX_T), X_T), Y)\n",
    "theta"
   ]
  },
  {
   "cell_type": "code",
   "execution_count": 8,
   "metadata": {
    "collapsed": true
   },
   "outputs": [],
   "source": [
    "# print(np.square(X[:,3]))\n",
    "# np.sum(np.square(X[:,3]))\n",
    "# Y.shape\n",
    "# print(np.delete(X,3,1).shape,np.delete(theta,3,0).shape)"
   ]
  },
  {
   "cell_type": "code",
   "execution_count": 9,
   "metadata": {
    "collapsed": true
   },
   "outputs": [],
   "source": [
    "# ydf = Y - np.dot(np.delete(X,3,1),np.delete(theta,3,0))\n",
    "# print(ydf, ydf.shape)\n",
    "# print(np.square(X[:,3]))\n",
    "# print(np.sum(ydf*X[:,3]))\n",
    "\n",
    "# print(np.sum(np.dot(ydf,X[:,3])))\n",
    "# ydf.shape"
   ]
  },
  {
   "cell_type": "code",
   "execution_count": null,
   "metadata": {
    "collapsed": true
   },
   "outputs": [],
   "source": []
  },
  {
   "cell_type": "markdown",
   "metadata": {},
   "source": [
    "## 여기서부터 computing\n",
    "\n",
    "매 repeat마다 theta는 이니셜라이즈 해서 람다에 따른 값을 확인하는거야!!!!!!!!"
   ]
  },
  {
   "cell_type": "code",
   "execution_count": 10,
   "metadata": {},
   "outputs": [
    {
     "name": "stdout",
     "output_type": "stream",
     "text": [
      "beta= 124.11138\n",
      "beta= 578.8904\n",
      "beta= -5150.6875\n",
      "beta= 19.60697\n",
      "beta= 11.120902\n",
      "beta= -27.419487\n",
      "beta= 36.754974\n",
      "beta= 899.72894\n",
      "[0 0 0 0 0 0 0 0]\n",
      "\n",
      "\n",
      "beta= 124.11138\n",
      "beta= 578.8904\n",
      "beta= -5150.6875\n",
      "beta= 19.60697\n",
      "beta= 11.120902\n",
      "beta= -27.419487\n",
      "beta= 36.754974\n",
      "beta= 899.72894\n",
      "[0 0 0 0 0 0 0 0]\n",
      "\n",
      "\n",
      "beta= 124.11138\n",
      "beta= 578.8904\n",
      "beta= -5150.6875\n",
      "beta= 19.60697\n",
      "beta= 11.120902\n",
      "beta= -27.419487\n",
      "beta= 36.754974\n",
      "beta= 899.72894\n",
      "[ 0.         0.        -0.0081352  0.         0.         0.\n",
      "  0.         0.       ]\n",
      "\n",
      "\n",
      "beta= 124.11138\n",
      "beta= 578.8904\n",
      "beta= -5150.6875\n",
      "beta= 19.60697\n",
      "beta= 11.120902\n",
      "beta= -27.419487\n",
      "beta= 36.754974\n",
      "beta= 899.72894\n",
      "[ 0.          0.         -0.01376692  0.          0.          0.\n",
      "  0.          0.        ]\n",
      "\n",
      "\n",
      "beta= 124.11138\n",
      "beta= 578.8904\n",
      "beta= -5150.6875\n",
      "beta= 19.60697\n",
      "beta= 11.120902\n",
      "beta= -27.419487\n",
      "beta= 36.754974\n",
      "beta= 899.72894\n",
      "[ 0.          0.04785047 -0.01621549  0.          0.          0.\n",
      "  0.          0.0035346 ]\n",
      "\n",
      "\n",
      "beta= 124.11138\n",
      "beta= 578.8904\n",
      "beta= -5150.6875\n",
      "beta= 19.60697\n",
      "beta= 11.120902\n",
      "beta= -27.419487\n",
      "beta= 36.754974\n",
      "beta= 899.72894\n",
      "[ 0.          0.38600156 -0.01728009  0.          0.          0.\n",
      "  0.          0.00647889]\n",
      "\n",
      "\n",
      "beta= 124.11138\n",
      "beta= 578.8904\n",
      "beta= -5150.6875\n",
      "beta= 19.60697\n",
      "beta= 11.120902\n",
      "beta= -27.419487\n",
      "beta= 36.754974\n",
      "beta= 899.72894\n",
      "[ 0.10475753  0.53302377 -0.01774295  0.          0.          0.\n",
      "  0.          0.00775901]\n",
      "\n",
      "\n",
      "beta= 124.11138\n",
      "beta= 578.8904\n",
      "beta= -5150.6875\n",
      "beta= 19.60697\n",
      "beta= 11.120902\n",
      "beta= -27.419487\n",
      "beta= 36.754974\n",
      "beta= 899.72894\n",
      "[ 0.36807737  0.59694648 -0.0179442   0.          0.          0.\n",
      "  0.          0.00831559]\n",
      "\n",
      "\n",
      "beta= 124.11138\n",
      "beta= 578.8904\n",
      "beta= -5150.6875\n",
      "beta= 19.60697\n",
      "beta= 11.120902\n",
      "beta= -27.419487\n",
      "beta= 36.754974\n",
      "beta= 899.72894\n",
      "[ 0.48256425  0.62473895 -0.0180317   0.00319311  0.         -0.06234505\n",
      "  0.00573495  0.00855758]\n",
      "\n",
      "\n",
      "beta= 124.11138\n",
      "beta= 578.8904\n",
      "beta= -5150.6875\n",
      "beta= 19.60697\n",
      "beta= 11.120902\n",
      "beta= -27.419487\n",
      "beta= 36.754974\n",
      "beta= 899.72894\n",
      "[ 0.53234116  0.63682264 -0.01806974  0.07957911  0.18619345 -0.14401055\n",
      "  0.00926262  0.00866279]\n",
      "\n",
      "\n",
      "3.620869718582019\n",
      "[[ 0.          0.          0.          0.          0.          0.\n",
      "   0.          0.        ]\n",
      " [ 0.          0.          0.          0.          0.          0.\n",
      "   0.          0.        ]\n",
      " [ 0.          0.         -0.0081352   0.          0.          0.\n",
      "   0.          0.        ]\n",
      " [ 0.          0.         -0.01376692  0.          0.          0.\n",
      "   0.          0.        ]\n",
      " [ 0.          0.04785047 -0.01621549  0.          0.          0.\n",
      "   0.          0.0035346 ]\n",
      " [ 0.          0.38600156 -0.01728009  0.          0.          0.\n",
      "   0.          0.00647889]\n",
      " [ 0.10475753  0.53302377 -0.01774295  0.          0.          0.\n",
      "   0.          0.00775901]\n",
      " [ 0.36807737  0.59694648 -0.0179442   0.          0.          0.\n",
      "   0.          0.00831559]\n",
      " [ 0.48256425  0.62473895 -0.0180317   0.00319311  0.         -0.06234505\n",
      "   0.00573495  0.00855758]\n",
      " [ 0.53234116  0.63682264 -0.01806974  0.07957911  0.18619345 -0.14401055\n",
      "   0.00926262  0.00866279]]\n"
     ]
    }
   ],
   "source": [
    "num_theta = len(X[0])\n",
    "lamb = 15000\n",
    "#print(num_theta)\n",
    "coefficients = []\n",
    "for i in range(10):\n",
    "    lasso_theta = []\n",
    "    for d in range(num_theta):\n",
    "        alpha_d = np.sum(np.square(X[:,d]))\n",
    "        y_xTtheta = Y - np.dot(np.delete(X,d,1),np.delete(theta,d,0))\n",
    "        beta_d = np.dot(y_xTtheta ,X[:,d])\n",
    "        print(\"beta=\",beta_d)\n",
    "        if beta_d < -lamb:\n",
    "            theta_d = (beta_d+lamb)/ alpha_d\n",
    "        elif beta_d > lamb:\n",
    "            theta_d = (beta_d-lamb)/ alpha_d\n",
    "        else:\n",
    "            theta_d=0\n",
    "        #print(theta_d)\n",
    "        lasso_theta.append(theta_d)\n",
    "    lasso_theta=np.array(lasso_theta)\n",
    "    print(lasso_theta)\n",
    "    coefficients.append(lasso_theta)\n",
    "    print(\"\\n\")\n",
    "    lamb = lamb/2.3\n",
    "\n",
    "print(lamb)\n",
    "a=np.array(coefficients)\n",
    "#for x in a:\n",
    "#    print(x)\n",
    "#print()\n",
    "#print(np.sum(np.abs(a),axis=1))\n",
    "kk = np.sum(np.abs(a), axis=1)\n",
    "# print(kk)\n",
    "kk /= kk[-1]\n",
    "print(a)\n",
    "\n",
    "\n",
    "plt.plot(kk,a[:,0], marker='o',  label='lcavol')\n",
    "plt.plot(kk,a[:,1], marker='o',  label='lweight')\n",
    "plt.plot(kk,a[:,2], marker='o',  label='age')\n",
    "plt.plot(kk,a[:,3], marker='o',  label='lbph')\n",
    "plt.plot(kk,a[:,4], marker='o',  label='svi')\n",
    "plt.plot(kk,a[:,5], marker='o',  label='lcp')\n",
    "plt.plot(kk,a[:,6], marker='o',  label='gleason')\n",
    "plt.plot(kk,a[:,7], marker='o',  label='pgg45')\n",
    "ymin, ymax = plt.ylim()\n",
    "\n",
    "\n",
    "plt.xlabel('|coef| / max|coef|')\n",
    "plt.ylabel('Coefficients')\n",
    "plt.legend()\n",
    "plt.grid(linestyle ='dotted')\n",
    "plt.axis('tight')\n",
    "plt.show()"
   ]
  }
 ],
 "metadata": {
  "kernelspec": {
   "display_name": "Python 3",
   "language": "python",
   "name": "python3"
  },
  "language_info": {
   "codemirror_mode": {
    "name": "ipython",
    "version": 3
   },
   "file_extension": ".py",
   "mimetype": "text/x-python",
   "name": "python",
   "nbconvert_exporter": "python",
   "pygments_lexer": "ipython3",
   "version": "3.6.3"
  }
 },
 "nbformat": 4,
 "nbformat_minor": 2
}
